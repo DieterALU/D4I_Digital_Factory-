{
 "cells": [
  {
   "cell_type": "markdown",
   "metadata": {},
   "source": [
    "# Smart Manufacturing"
   ]
  },
  {
   "cell_type": "markdown",
   "metadata": {},
   "source": [
    "![Screenshot](throughput_time.JPG) "
   ]
  },
  {
   "cell_type": "markdown",
   "metadata": {},
   "source": [
    "Scenario: We have been given data from a spare parts manufacturing plant that uses Fabricating Machines, and skilled Operators to produce spare parts. These are small parts and they are produced in the 100's. The manufacturing plant wants to produce as many parts as possible quickly.\n",
    "\n",
    "**Data:** We have given given 1 day's manufacturing data. There are 2 Machines (M1 and M2) and 5 human operators (O1...O5) and on this day 3 parts (P1, P2 and P3) were produced.\n",
    "\n",
    "Both M1 and M2 have different rates of production, when they are running. However, they both require some set-up time, as well as `change over` time when switching between different parts. \n",
    "\n",
    "__Stoppages__ Throughout the day, these machines get stopped for various reasons. These NPT (non-productive times) are due to the following reasons:\n",
    "1. Alarms (machine parts overheating, high vibrations)\n",
    "2. Operator stops (humans stopping the machines, for taking a break, replacing raw etc.)\n",
    "3. Change over (when switching from one Part to manufacturing another)\n",
    "\n",
    "\n",
    "\n",
    "**Goal for this lesson**: Compare the throughputs of the different machines, compare part manufacturing difficulty and operator efficiencies, by looking at the data\n"
   ]
  },
  {
   "cell_type": "markdown",
   "metadata": {},
   "source": [
    "![Screenshot](CumulativeFlow.png) "
   ]
  },
  {
   "cell_type": "markdown",
   "metadata": {},
   "source": [
    "### Preparatory Tasks\n",
    "\n",
    "1. Read the input file\n",
    "2. Format the data into a proper time series (with datetime) Timestamps and floats for the sensor values\n",
    "3. Plot the number of parts produced with time as the x-axis (flat areas are stoppage times)"
   ]
  },
  {
   "cell_type": "markdown",
   "metadata": {
    "slideshow": {
     "slide_type": "fragment"
    }
   },
   "source": [
    "## Questions to be answered\n",
    "\n",
    "- Q1: How does Machine M1 compare against M2 in terms of its production capacity?\n",
    "- Q2: How do the 3 parts (P1, P2, P3) compare in terms of production complexity, based on this one day's data?\n",
    "- Q3: How do the 5 operators compare, in terms of their individual production rates?\n",
    "- Q4: What is the actual `realized` production rate, when taking into account all the stoppages?"
   ]
  },
  {
   "cell_type": "code",
   "execution_count": 1,
   "metadata": {
    "slideshow": {
     "slide_type": "slide"
    }
   },
   "outputs": [],
   "source": [
    "import numpy as np\n",
    "import pandas as pd\n",
    "import matplotlib.pyplot as plt\n",
    "import seaborn as sns\n",
    "import os\n",
    "import datetime"
   ]
  },
  {
   "cell_type": "code",
   "execution_count": 2,
   "metadata": {},
   "outputs": [],
   "source": [
    "%matplotlib inline"
   ]
  },
  {
   "cell_type": "markdown",
   "metadata": {},
   "source": [
    "#### Import the data set"
   ]
  },
  {
   "cell_type": "code",
   "execution_count": 3,
   "metadata": {},
   "outputs": [],
   "source": [
    "data = pd.read_csv(\"smart_manufacturing_operator_machine_data.csv\",sep=\",\",parse_dates=True)"
   ]
  },
  {
   "cell_type": "code",
   "execution_count": 5,
   "metadata": {},
   "outputs": [
    {
     "data": {
      "text/html": [
       "<div>\n",
       "<style scoped>\n",
       "    .dataframe tbody tr th:only-of-type {\n",
       "        vertical-align: middle;\n",
       "    }\n",
       "\n",
       "    .dataframe tbody tr th {\n",
       "        vertical-align: top;\n",
       "    }\n",
       "\n",
       "    .dataframe thead th {\n",
       "        text-align: right;\n",
       "    }\n",
       "</style>\n",
       "<table border=\"1\" class=\"dataframe\">\n",
       "  <thead>\n",
       "    <tr style=\"text-align: right;\">\n",
       "      <th></th>\n",
       "      <th>Time</th>\n",
       "      <th>StopType</th>\n",
       "      <th>Operator</th>\n",
       "      <th>Part</th>\n",
       "      <th>NumberOfPieces</th>\n",
       "      <th>Machine</th>\n",
       "    </tr>\n",
       "  </thead>\n",
       "  <tbody>\n",
       "    <tr>\n",
       "      <th>0</th>\n",
       "      <td>0:07:29.798441</td>\n",
       "      <td>Run</td>\n",
       "      <td>Op_2</td>\n",
       "      <td>P1</td>\n",
       "      <td>12483</td>\n",
       "      <td>M2</td>\n",
       "    </tr>\n",
       "    <tr>\n",
       "      <th>1</th>\n",
       "      <td>0:09:55.991285</td>\n",
       "      <td>Run</td>\n",
       "      <td>Op_1</td>\n",
       "      <td>P1</td>\n",
       "      <td>18988</td>\n",
       "      <td>M1</td>\n",
       "    </tr>\n",
       "    <tr>\n",
       "      <th>2</th>\n",
       "      <td>0:10:46.491958</td>\n",
       "      <td>Run</td>\n",
       "      <td>Op_1</td>\n",
       "      <td>P1</td>\n",
       "      <td>1793</td>\n",
       "      <td>M1</td>\n",
       "    </tr>\n",
       "    <tr>\n",
       "      <th>3</th>\n",
       "      <td>0:17:12.460362</td>\n",
       "      <td>ChangeOver</td>\n",
       "      <td>Op_1</td>\n",
       "      <td>P3</td>\n",
       "      <td>0</td>\n",
       "      <td>M1</td>\n",
       "    </tr>\n",
       "    <tr>\n",
       "      <th>4</th>\n",
       "      <td>0:21:34.147366</td>\n",
       "      <td>OpStop</td>\n",
       "      <td>Op_2</td>\n",
       "      <td>P1</td>\n",
       "      <td>0</td>\n",
       "      <td>M2</td>\n",
       "    </tr>\n",
       "  </tbody>\n",
       "</table>\n",
       "</div>"
      ],
      "text/plain": [
       "             Time    StopType Operator Part  NumberOfPieces Machine\n",
       "0  0:07:29.798441         Run     Op_2   P1           12483      M2\n",
       "1  0:09:55.991285         Run     Op_1   P1           18988      M1\n",
       "2  0:10:46.491958         Run     Op_1   P1            1793      M1\n",
       "3  0:17:12.460362  ChangeOver     Op_1   P3               0      M1\n",
       "4  0:21:34.147366      OpStop     Op_2   P1               0      M2"
      ]
     },
     "execution_count": 5,
     "metadata": {},
     "output_type": "execute_result"
    }
   ],
   "source": [
    "data.head()"
   ]
  },
  {
   "cell_type": "code",
   "execution_count": 6,
   "metadata": {},
   "outputs": [
    {
     "name": "stdout",
     "output_type": "stream",
     "text": [
      "<class 'pandas.core.frame.DataFrame'>\n",
      "RangeIndex: 364 entries, 0 to 363\n",
      "Data columns (total 6 columns):\n",
      "Time              364 non-null object\n",
      "StopType          364 non-null object\n",
      "Operator          364 non-null object\n",
      "Part              364 non-null object\n",
      "NumberOfPieces    364 non-null int64\n",
      "Machine           364 non-null object\n",
      "dtypes: int64(1), object(5)\n",
      "memory usage: 17.1+ KB\n"
     ]
    }
   ],
   "source": [
    "data.info()"
   ]
  },
  {
   "cell_type": "markdown",
   "metadata": {},
   "source": [
    "convert Time to datetime"
   ]
  },
  {
   "cell_type": "code",
   "execution_count": 7,
   "metadata": {},
   "outputs": [],
   "source": [
    "#data['Time'] = pd.to_datetime(data['Time'])"
   ]
  },
  {
   "cell_type": "code",
   "execution_count": 8,
   "metadata": {},
   "outputs": [],
   "source": [
    "data = data.iloc[0:-2,:]"
   ]
  },
  {
   "cell_type": "code",
   "execution_count": 9,
   "metadata": {},
   "outputs": [],
   "source": [
    "data['Time'] = [datetime.datetime.strptime(data.Time[i],'%H:%M:%S.%f') for i in range(len(data.NumberOfPieces))]"
   ]
  },
  {
   "cell_type": "code",
   "execution_count": 10,
   "metadata": {},
   "outputs": [
    {
     "data": {
      "text/html": [
       "<div>\n",
       "<style scoped>\n",
       "    .dataframe tbody tr th:only-of-type {\n",
       "        vertical-align: middle;\n",
       "    }\n",
       "\n",
       "    .dataframe tbody tr th {\n",
       "        vertical-align: top;\n",
       "    }\n",
       "\n",
       "    .dataframe thead th {\n",
       "        text-align: right;\n",
       "    }\n",
       "</style>\n",
       "<table border=\"1\" class=\"dataframe\">\n",
       "  <thead>\n",
       "    <tr style=\"text-align: right;\">\n",
       "      <th></th>\n",
       "      <th>Time</th>\n",
       "      <th>StopType</th>\n",
       "      <th>Operator</th>\n",
       "      <th>Part</th>\n",
       "      <th>NumberOfPieces</th>\n",
       "      <th>Machine</th>\n",
       "    </tr>\n",
       "  </thead>\n",
       "  <tbody>\n",
       "    <tr>\n",
       "      <th>0</th>\n",
       "      <td>1900-01-01 00:07:29.798441</td>\n",
       "      <td>Run</td>\n",
       "      <td>Op_2</td>\n",
       "      <td>P1</td>\n",
       "      <td>12483</td>\n",
       "      <td>M2</td>\n",
       "    </tr>\n",
       "    <tr>\n",
       "      <th>1</th>\n",
       "      <td>1900-01-01 00:09:55.991285</td>\n",
       "      <td>Run</td>\n",
       "      <td>Op_1</td>\n",
       "      <td>P1</td>\n",
       "      <td>18988</td>\n",
       "      <td>M1</td>\n",
       "    </tr>\n",
       "    <tr>\n",
       "      <th>2</th>\n",
       "      <td>1900-01-01 00:10:46.491958</td>\n",
       "      <td>Run</td>\n",
       "      <td>Op_1</td>\n",
       "      <td>P1</td>\n",
       "      <td>1793</td>\n",
       "      <td>M1</td>\n",
       "    </tr>\n",
       "    <tr>\n",
       "      <th>3</th>\n",
       "      <td>1900-01-01 00:17:12.460362</td>\n",
       "      <td>ChangeOver</td>\n",
       "      <td>Op_1</td>\n",
       "      <td>P3</td>\n",
       "      <td>0</td>\n",
       "      <td>M1</td>\n",
       "    </tr>\n",
       "    <tr>\n",
       "      <th>4</th>\n",
       "      <td>1900-01-01 00:21:34.147366</td>\n",
       "      <td>OpStop</td>\n",
       "      <td>Op_2</td>\n",
       "      <td>P1</td>\n",
       "      <td>0</td>\n",
       "      <td>M2</td>\n",
       "    </tr>\n",
       "  </tbody>\n",
       "</table>\n",
       "</div>"
      ],
      "text/plain": [
       "                        Time    StopType Operator Part  NumberOfPieces Machine\n",
       "0 1900-01-01 00:07:29.798441         Run     Op_2   P1           12483      M2\n",
       "1 1900-01-01 00:09:55.991285         Run     Op_1   P1           18988      M1\n",
       "2 1900-01-01 00:10:46.491958         Run     Op_1   P1            1793      M1\n",
       "3 1900-01-01 00:17:12.460362  ChangeOver     Op_1   P3               0      M1\n",
       "4 1900-01-01 00:21:34.147366      OpStop     Op_2   P1               0      M2"
      ]
     },
     "execution_count": 10,
     "metadata": {},
     "output_type": "execute_result"
    }
   ],
   "source": [
    "data.head()"
   ]
  },
  {
   "cell_type": "code",
   "execution_count": 11,
   "metadata": {},
   "outputs": [],
   "source": [
    "data.set_index(data['Time'],inplace=True)\n",
    "data.drop(columns=['Time'],inplace=True)"
   ]
  },
  {
   "cell_type": "code",
   "execution_count": 12,
   "metadata": {},
   "outputs": [
    {
     "data": {
      "text/html": [
       "<div>\n",
       "<style scoped>\n",
       "    .dataframe tbody tr th:only-of-type {\n",
       "        vertical-align: middle;\n",
       "    }\n",
       "\n",
       "    .dataframe tbody tr th {\n",
       "        vertical-align: top;\n",
       "    }\n",
       "\n",
       "    .dataframe thead th {\n",
       "        text-align: right;\n",
       "    }\n",
       "</style>\n",
       "<table border=\"1\" class=\"dataframe\">\n",
       "  <thead>\n",
       "    <tr style=\"text-align: right;\">\n",
       "      <th></th>\n",
       "      <th>StopType</th>\n",
       "      <th>Operator</th>\n",
       "      <th>Part</th>\n",
       "      <th>NumberOfPieces</th>\n",
       "      <th>Machine</th>\n",
       "    </tr>\n",
       "    <tr>\n",
       "      <th>Time</th>\n",
       "      <th></th>\n",
       "      <th></th>\n",
       "      <th></th>\n",
       "      <th></th>\n",
       "      <th></th>\n",
       "    </tr>\n",
       "  </thead>\n",
       "  <tbody>\n",
       "    <tr>\n",
       "      <th>1900-01-01 00:07:29.798441</th>\n",
       "      <td>Run</td>\n",
       "      <td>Op_2</td>\n",
       "      <td>P1</td>\n",
       "      <td>12483</td>\n",
       "      <td>M2</td>\n",
       "    </tr>\n",
       "    <tr>\n",
       "      <th>1900-01-01 00:09:55.991285</th>\n",
       "      <td>Run</td>\n",
       "      <td>Op_1</td>\n",
       "      <td>P1</td>\n",
       "      <td>18988</td>\n",
       "      <td>M1</td>\n",
       "    </tr>\n",
       "    <tr>\n",
       "      <th>1900-01-01 00:10:46.491958</th>\n",
       "      <td>Run</td>\n",
       "      <td>Op_1</td>\n",
       "      <td>P1</td>\n",
       "      <td>1793</td>\n",
       "      <td>M1</td>\n",
       "    </tr>\n",
       "    <tr>\n",
       "      <th>1900-01-01 00:17:12.460362</th>\n",
       "      <td>ChangeOver</td>\n",
       "      <td>Op_1</td>\n",
       "      <td>P3</td>\n",
       "      <td>0</td>\n",
       "      <td>M1</td>\n",
       "    </tr>\n",
       "    <tr>\n",
       "      <th>1900-01-01 00:21:34.147366</th>\n",
       "      <td>OpStop</td>\n",
       "      <td>Op_2</td>\n",
       "      <td>P1</td>\n",
       "      <td>0</td>\n",
       "      <td>M2</td>\n",
       "    </tr>\n",
       "  </tbody>\n",
       "</table>\n",
       "</div>"
      ],
      "text/plain": [
       "                              StopType Operator Part  NumberOfPieces Machine\n",
       "Time                                                                        \n",
       "1900-01-01 00:07:29.798441         Run     Op_2   P1           12483      M2\n",
       "1900-01-01 00:09:55.991285         Run     Op_1   P1           18988      M1\n",
       "1900-01-01 00:10:46.491958         Run     Op_1   P1            1793      M1\n",
       "1900-01-01 00:17:12.460362  ChangeOver     Op_1   P3               0      M1\n",
       "1900-01-01 00:21:34.147366      OpStop     Op_2   P1               0      M2"
      ]
     },
     "execution_count": 12,
     "metadata": {},
     "output_type": "execute_result"
    }
   ],
   "source": [
    "data.head()"
   ]
  },
  {
   "cell_type": "markdown",
   "metadata": {},
   "source": [
    "### Question 1: How does Machine M1 compare against M2 in terms of its production capacity?"
   ]
  },
  {
   "cell_type": "markdown",
   "metadata": {},
   "source": [
    "Filter the data by part and creating a dataframe with Number of peices"
   ]
  },
  {
   "cell_type": "code",
   "execution_count": 13,
   "metadata": {},
   "outputs": [],
   "source": [
    "part_1 = data.loc[data['Part']==\"P1\"].drop(columns = ['StopType','Operator'])"
   ]
  },
  {
   "cell_type": "markdown",
   "metadata": {},
   "source": [
    "Machine 1 data"
   ]
  },
  {
   "cell_type": "code",
   "execution_count": 14,
   "metadata": {},
   "outputs": [],
   "source": [
    "pt1_M1 = part_1.loc[part_1['Machine']==\"M1\"]"
   ]
  },
  {
   "cell_type": "markdown",
   "metadata": {},
   "source": [
    "Machine 2 data"
   ]
  },
  {
   "cell_type": "code",
   "execution_count": 15,
   "metadata": {},
   "outputs": [],
   "source": [
    "pt1_M2 = part_1.loc[part_1['Machine']==\"M2\"]"
   ]
  },
  {
   "cell_type": "code",
   "execution_count": 16,
   "metadata": {},
   "outputs": [
    {
     "data": {
      "image/png": "[encoded data removed]",
      "text/plain": [
       "<matplotlib.figure.Figure at 0x3c52400>"
      ]
     },
     "metadata": {},
     "output_type": "display_data"
    }
   ],
   "source": [
    "ts = pd.Series(pt1_M1.NumberOfPieces,index=pt1_M1.index)\n",
    "ts2 = pd.Series(pt1_M2.NumberOfPieces,index=pt1_M2.index)\n",
    "ts.plot.area(figsize=(15,5), label='M1', color='silver')\n",
    "ts2.plot.area(figsize=(15,5),label='M2', color='lightblue')\n",
    "plt.legend(loc='best')\n",
    "plt.title('Machine 1 & 2 overview')\n",
    "plt.ylabel('Number of parts produced')\n",
    "plt.show()"
   ]
  },
  {
   "cell_type": "markdown",
   "metadata": {},
   "source": [
    "From what I can understand form the plot is that Machine 2 was primarily used over a longer period was as Machine 1 was used less / also in shorter bursts."
   ]
  },
  {
   "cell_type": "markdown",
   "metadata": {},
   "source": [
    "### Question 2: How do the 3 parts (P1, P2, P3) compare in terms of production complexity, based on this one day's data?"
   ]
  },
  {
   "cell_type": "code",
   "execution_count": 17,
   "metadata": {},
   "outputs": [],
   "source": [
    "P1 = data.loc[data['Part']=='P1']\n",
    "P2 = data.loc[data['Part']=='P2']\n",
    "P3 = data.loc[data['Part']=='P3']"
   ]
  },
  {
   "cell_type": "code",
   "execution_count": 18,
   "metadata": {},
   "outputs": [
    {
     "data": {
      "image/png": "[encoded data removed]",
      "text/plain": [
       "<matplotlib.figure.Figure at 0xc8af5f8>"
      ]
     },
     "metadata": {},
     "output_type": "display_data"
    }
   ],
   "source": [
    "tsp1 = pd.Series(P1.NumberOfPieces,index=P1.index)\n",
    "tsp2 = pd.Series(P2.NumberOfPieces,index=P2.index)\n",
    "tsp3 = pd.Series(P3.NumberOfPieces,index=P3.index)\n",
    "tsp1.plot.area(figsize=(15,5), label='P1', color='blue')\n",
    "tsp2.plot.area(figsize=(15,5),label='P2', color='silver')\n",
    "tsp3.plot.area(figsize=(15,5),label='P3', color='lightblue')\n",
    "plt.legend(loc='best')\n",
    "plt.title('3 Parts Manufactured')\n",
    "plt.ylim(0,140000)\n",
    "plt.ylabel('Number of Parts made')\n",
    "plt.show()"
   ]
  },
  {
   "cell_type": "markdown",
   "metadata": {},
   "source": [
    "From this view I can’t tell witch machine produced what, but I can tell that Part 1 was produced throughout the time. That Part 2 was initially produced slowly (most likely sorting out production errors) and then production ramped up of this part. And that Part 3 was only put into production at the midpoint and was produced the most in a very short period."
   ]
  },
  {
   "cell_type": "markdown",
   "metadata": {},
   "source": [
    "### Question 3: How do the 5 operators compare, in terms of their individual production rates?"
   ]
  },
  {
   "cell_type": "markdown",
   "metadata": {},
   "source": [
    "Finding the 5 opperators in the data"
   ]
  },
  {
   "cell_type": "code",
   "execution_count": 19,
   "metadata": {},
   "outputs": [],
   "source": [
    "def Ops_Output(PN):\n",
    "    \n",
    "    Part_Number = [PN.loc[PN['Operator']=='Op_1'].NumberOfPieces.sum(),\n",
    "    PN.loc[PN['Operator']=='Op_2'].NumberOfPieces.sum(),\n",
    "    PN.loc[PN['Operator']=='Op_3'].NumberOfPieces.sum(),\n",
    "    PN.loc[PN['Operator']=='Op_4'].NumberOfPieces.sum(),\n",
    "    PN.loc[PN['Operator']=='Op_5'].NumberOfPieces.sum()]\n",
    "    \n",
    "    return Part_Number"
   ]
  },
  {
   "cell_type": "code",
   "execution_count": 20,
   "metadata": {},
   "outputs": [],
   "source": [
    "Part1 = Ops_Output(P1)\n",
    "Part2 = Ops_Output(P2)\n",
    "Part3 = Ops_Output(P3)"
   ]
  },
  {
   "cell_type": "markdown",
   "metadata": {},
   "source": [
    "Plot the 5 opperators"
   ]
  },
  {
   "cell_type": "code",
   "execution_count": 21,
   "metadata": {},
   "outputs": [
    {
     "data": {
      "text/plain": [
       "<matplotlib.legend.Legend at 0xc5b6e48>"
      ]
     },
     "execution_count": 21,
     "metadata": {},
     "output_type": "execute_result"
    },
    {
     "data": {
      "image/png": "[encoded data removed]",
      "text/plain": [
       "<matplotlib.figure.Figure at 0xc5b6160>"
      ]
     },
     "metadata": {},
     "output_type": "display_data"
    }
   ],
   "source": [
    "n_groups = 5\n",
    " \n",
    "# create plot\n",
    "fig, ax = plt.subplots(figsize=(15,7))\n",
    "index = np.arange(n_groups)\n",
    "bar_width = 0.35\n",
    "opacity = 0.5\n",
    " \n",
    "pt1 = plt.bar(index, Part1, bar_width,\n",
    "                 alpha=opacity,\n",
    "                 color='blue',\n",
    "                 label='Part1')\n",
    " \n",
    "pt2 = plt.bar(index + bar_width, Part2, bar_width,\n",
    "                 alpha=opacity,\n",
    "                 color='gray',\n",
    "                 label='Part2')\n",
    "\n",
    "pt3 = plt.bar(index + bar_width+bar_width, Part3, bar_width,\n",
    "                 alpha=opacity,\n",
    "                 color='green',\n",
    "                 label='Part3')\n",
    " \n",
    "plt.xlabel('Operator')\n",
    "plt.ylabel('Number of Parts produced')\n",
    "plt.title('Opperator vs Parts made')\n",
    "plt.xticks(index + bar_width, ('Op_1', 'Op_2', 'Op_3', 'Op_4','Op_5'))\n",
    "plt.legend(loc=2)"
   ]
  },
  {
   "cell_type": "markdown",
   "metadata": {},
   "source": [
    "From the table above I can tell that Opperator 5 was the most productive."
   ]
  },
  {
   "cell_type": "code",
   "execution_count": 22,
   "metadata": {},
   "outputs": [],
   "source": [
    "Stoptype = [item for item in data['StopType'].unique()]"
   ]
  },
  {
   "cell_type": "code",
   "execution_count": 23,
   "metadata": {},
   "outputs": [
    {
     "name": "stdout",
     "output_type": "stream",
     "text": [
      "['Run', 'ChangeOver', 'OpStop', 'Alarm']\n"
     ]
    }
   ],
   "source": [
    "print(Stoptype)"
   ]
  },
  {
   "cell_type": "markdown",
   "metadata": {},
   "source": [
    "Finding the different Stop types for Machine 1"
   ]
  },
  {
   "cell_type": "code",
   "execution_count": 24,
   "metadata": {},
   "outputs": [],
   "source": [
    "def stops(PN):\n",
    "    \n",
    "    stp = [PN.loc[PN['Machine']=='M1'][PN['StopType']=='Run'].StopType.count(),\n",
    "           PN.loc[PN['Machine']=='M1'][PN['StopType']=='Alarm'].StopType.count(),\n",
    "           PN.loc[PN['Machine']=='M1'][PN['StopType']=='ChangeOver'].StopType.count(),\n",
    "           PN.loc[PN['Machine']=='M1'][PN['StopType']=='OpStop'].StopType.count()          \n",
    "          ]\n",
    "    \n",
    "    return stp"
   ]
  },
  {
   "cell_type": "code",
   "execution_count": 25,
   "metadata": {},
   "outputs": [
    {
     "name": "stderr",
     "output_type": "stream",
     "text": [
      "C:\\Users\\113011371\\AppData\\Local\\Continuum\\anaconda3\\lib\\site-packages\\ipykernel_launcher.py:3: UserWarning: Boolean Series key will be reindexed to match DataFrame index.\n",
      "  This is separate from the ipykernel package so we can avoid doing imports until\n",
      "C:\\Users\\113011371\\AppData\\Local\\Continuum\\anaconda3\\lib\\site-packages\\ipykernel_launcher.py:4: UserWarning: Boolean Series key will be reindexed to match DataFrame index.\n",
      "  after removing the cwd from sys.path.\n",
      "C:\\Users\\113011371\\AppData\\Local\\Continuum\\anaconda3\\lib\\site-packages\\ipykernel_launcher.py:5: UserWarning: Boolean Series key will be reindexed to match DataFrame index.\n",
      "  \"\"\"\n",
      "C:\\Users\\113011371\\AppData\\Local\\Continuum\\anaconda3\\lib\\site-packages\\ipykernel_launcher.py:6: UserWarning: Boolean Series key will be reindexed to match DataFrame index.\n",
      "  \n"
     ]
    }
   ],
   "source": [
    "Part1_stops = stops(P1)\n",
    "Part2_stops = stops(P2)\n",
    "Part3_stops = stops(P3)"
   ]
  },
  {
   "cell_type": "code",
   "execution_count": 26,
   "metadata": {},
   "outputs": [
    {
     "data": {
      "text/plain": [
       "<matplotlib.legend.Legend at 0xd170f60>"
      ]
     },
     "execution_count": 26,
     "metadata": {},
     "output_type": "execute_result"
    },
    {
     "data": {
      "image/png": "[encoded data removed]",
      "text/plain": [
       "<matplotlib.figure.Figure at 0xd170860>"
      ]
     },
     "metadata": {},
     "output_type": "display_data"
    }
   ],
   "source": [
    "n_groups = 4\n",
    " \n",
    "# create plot\n",
    "fig, ax = plt.subplots(figsize=(15,7))\n",
    "index = np.arange(n_groups)\n",
    "bar_width = 0.2\n",
    "opacity = 0.5\n",
    " \n",
    "pt1 = plt.bar(index, Part1_stops, bar_width,\n",
    "                 alpha=opacity,\n",
    "                 color='blue',\n",
    "                 label='Part1')\n",
    " \n",
    "pt2 = plt.bar(index + bar_width, Part2_stops, bar_width,\n",
    "                 alpha=opacity,\n",
    "                 color='gray',\n",
    "                 label='Part2')\n",
    "\n",
    "pt3 = plt.bar(index + bar_width+bar_width, Part3_stops, bar_width,\n",
    "                 alpha=opacity,\n",
    "                 color='green',\n",
    "                 label='Part3')\n",
    " \n",
    "plt.xlabel('StopType')\n",
    "plt.ylabel('Frequency')\n",
    "plt.title('Machine 1 Stop Types')\n",
    "plt.xticks(index + bar_width, ('Run', 'Alarm','Change_Over','Op_Stop'))\n",
    "plt.legend(loc=0)"
   ]
  },
  {
   "cell_type": "markdown",
   "metadata": {},
   "source": [
    "Finding the different Stop types for Machine 2"
   ]
  },
  {
   "cell_type": "code",
   "execution_count": 27,
   "metadata": {},
   "outputs": [],
   "source": [
    "def stops(PN):\n",
    "    \n",
    "    stp = [PN.loc[PN['Machine']=='M2'][PN['StopType']=='Run'].StopType.count(),\n",
    "           PN.loc[PN['Machine']=='M2'][PN['StopType']=='Alarm'].StopType.count(),\n",
    "           PN.loc[PN['Machine']=='M2'][PN['StopType']=='ChangeOver'].StopType.count(),\n",
    "           PN.loc[PN['Machine']=='M2'][PN['StopType']=='OpStop'].StopType.count()          \n",
    "          ]\n",
    "    \n",
    "    return stp"
   ]
  },
  {
   "cell_type": "code",
   "execution_count": 28,
   "metadata": {},
   "outputs": [
    {
     "name": "stderr",
     "output_type": "stream",
     "text": [
      "C:\\Users\\113011371\\AppData\\Local\\Continuum\\anaconda3\\lib\\site-packages\\ipykernel_launcher.py:3: UserWarning: Boolean Series key will be reindexed to match DataFrame index.\n",
      "  This is separate from the ipykernel package so we can avoid doing imports until\n",
      "C:\\Users\\113011371\\AppData\\Local\\Continuum\\anaconda3\\lib\\site-packages\\ipykernel_launcher.py:4: UserWarning: Boolean Series key will be reindexed to match DataFrame index.\n",
      "  after removing the cwd from sys.path.\n",
      "C:\\Users\\113011371\\AppData\\Local\\Continuum\\anaconda3\\lib\\site-packages\\ipykernel_launcher.py:5: UserWarning: Boolean Series key will be reindexed to match DataFrame index.\n",
      "  \"\"\"\n",
      "C:\\Users\\113011371\\AppData\\Local\\Continuum\\anaconda3\\lib\\site-packages\\ipykernel_launcher.py:6: UserWarning: Boolean Series key will be reindexed to match DataFrame index.\n",
      "  \n"
     ]
    }
   ],
   "source": [
    "Part21_stops = stops(P1)\n",
    "Part22_stops = stops(P2)\n",
    "Part23_stops = stops(P3)"
   ]
  },
  {
   "cell_type": "code",
   "execution_count": 29,
   "metadata": {},
   "outputs": [
    {
     "data": {
      "text/plain": [
       "<matplotlib.legend.Legend at 0xc92a048>"
      ]
     },
     "execution_count": 29,
     "metadata": {},
     "output_type": "execute_result"
    },
    {
     "data": {
      "image/png": "[encoded data removed]",
      "text/plain": [
       "<matplotlib.figure.Figure at 0xc92a278>"
      ]
     },
     "metadata": {},
     "output_type": "display_data"
    }
   ],
   "source": [
    "n_groups = 4\n",
    " \n",
    "# create plot\n",
    "fig, ax = plt.subplots(figsize=(15,7))\n",
    "index = np.arange(n_groups)\n",
    "bar_width = 0.2\n",
    "opacity = 0.5\n",
    " \n",
    "pt1 = plt.bar(index, Part21_stops, bar_width,\n",
    "                 alpha=opacity,\n",
    "                 color='blue',\n",
    "                 label='Part1')\n",
    " \n",
    "pt2 = plt.bar(index + bar_width, Part22_stops, bar_width,\n",
    "                 alpha=opacity,\n",
    "                 color='gray',\n",
    "                 label='Part2')\n",
    "\n",
    "pt3 = plt.bar(index + bar_width+bar_width, Part23_stops, bar_width,\n",
    "                 alpha=opacity,\n",
    "                 color='green',\n",
    "                 label='Part3')\n",
    " \n",
    "plt.xlabel('StopType')\n",
    "plt.ylabel('Frequency')\n",
    "plt.title('Machine 2 Stop Types')\n",
    "plt.xticks(index + bar_width, ('Run', 'Alarm','Change_Over','Op_Stop'))\n",
    "plt.legend(loc=0)"
   ]
  },
  {
   "cell_type": "markdown",
   "metadata": {},
   "source": [
    "From the two graphs of Machine 1 & 2 I can see that Machine 1 had overall more run condition for all three parts made, whereas Machine 2 had a similar scenario but had an exception with regards to part 3. What I can also tell is that Machine 1 had view Alarm, Change Overs and Operation Stops when compared to machine 2"
   ]
  },
  {
   "cell_type": "markdown",
   "metadata": {},
   "source": [
    "### Question 4: What is the actual realized production rate, when taking into account all the stoppages?"
   ]
  },
  {
   "cell_type": "markdown",
   "metadata": {},
   "source": [
    "Part 1,2,3 run rates"
   ]
  },
  {
   "cell_type": "code",
   "execution_count": 30,
   "metadata": {},
   "outputs": [],
   "source": [
    "total_P1_run = Part1_stops[0]+Part21_stops[0]\n",
    "total_P2_run = Part2_stops[0]+Part22_stops[0]\n",
    "total_P3_run = Part3_stops[0]+Part23_stops[0]"
   ]
  },
  {
   "cell_type": "markdown",
   "metadata": {},
   "source": [
    "Part 1,2,3 stops"
   ]
  },
  {
   "cell_type": "code",
   "execution_count": 31,
   "metadata": {},
   "outputs": [],
   "source": [
    "total_part1_stops = Part1_stops[1]+Part21_stops[1]+Part1_stops[2]+Part21_stops[2]+Part1_stops[3]+Part21_stops[3]\n",
    "total_part2_stops = Part2_stops[1]+Part22_stops[1]+Part2_stops[2]+Part22_stops[2]+Part2_stops[3]+Part22_stops[3]\n",
    "total_part3_stops = Part3_stops[1]+Part23_stops[1]+Part3_stops[2]+Part23_stops[2]+Part3_stops[3]+Part23_stops[3]"
   ]
  },
  {
   "cell_type": "markdown",
   "metadata": {},
   "source": [
    "Totals"
   ]
  },
  {
   "cell_type": "code",
   "execution_count": 32,
   "metadata": {},
   "outputs": [],
   "source": [
    "Part1_tot = total_P1_run+total_part1_stops\n",
    "Part2_tot = total_P2_run+total_part2_stops\n",
    "Part3_tot = total_P3_run+total_part3_stops"
   ]
  },
  {
   "cell_type": "markdown",
   "metadata": {},
   "source": [
    "Productivity in percentage conversion"
   ]
  },
  {
   "cell_type": "code",
   "execution_count": 33,
   "metadata": {},
   "outputs": [],
   "source": [
    "p1_prod = np.divide(float(total_P1_run),float(Part1_tot))*100\n",
    "p2_prod = np.divide(float(total_P2_run),float(Part2_tot))*100\n",
    "p3_prod = np.divide(float(total_P3_run),float(Part3_tot))*100"
   ]
  },
  {
   "cell_type": "code",
   "execution_count": 34,
   "metadata": {},
   "outputs": [
    {
     "name": "stdout",
     "output_type": "stream",
     "text": [
      "Part 1 productivity:  70.652173913\n",
      "Part 2 productivity:  62.893081761\n",
      "Part 3 productivity:  64.8648648649\n"
     ]
    }
   ],
   "source": [
    "print('Part 1 productivity: ',p1_prod)\n",
    "print('Part 2 productivity: ',p2_prod)\n",
    "print('Part 3 productivity: ',p3_prod)"
   ]
  },
  {
   "cell_type": "markdown",
   "metadata": {},
   "source": [
    "Try to figure out the parts per hour produced"
   ]
  },
  {
   "cell_type": "code",
   "execution_count": 35,
   "metadata": {},
   "outputs": [
    {
     "name": "stdout",
     "output_type": "stream",
     "text": [
      "Part 1 = 33106.625 per hour\n",
      "Part 2 = 75426.0416667 per hour\n",
      "Part 3 = 149989.125 per hour\n"
     ]
    }
   ],
   "source": [
    "print('Part 1 = '+''+str((data.loc[data['Part']=='P1'].NumberOfPieces.sum())/24)+' per hour');\n",
    "print('Part 2 = '+''+str((data.loc[data['Part']=='P2'].NumberOfPieces.sum())/24)+' per hour');\n",
    "print('Part 3 = '+''+str((data.loc[data['Part']=='P3'].NumberOfPieces.sum())/24)+' per hour');"
   ]
  },
  {
   "cell_type": "markdown",
   "metadata": {},
   "source": [
    "Part 2 was the most produced part. this could have been because Opperator 5 made more of this one part when compared to the other two parts. It seemed like Opperator 5 worked more when compared to the other Opperators."
   ]
  }
 ],
 "metadata": {
  "kernelspec": {
   "display_name": "Python 3",
   "language": "python",
   "name": "python3"
  },
  "language_info": {
   "codemirror_mode": {
    "name": "ipython",
    "version": 3
   },
   "file_extension": ".py",
   "mimetype": "text/x-python",
   "name": "python",
   "nbconvert_exporter": "python",
   "pygments_lexer": "ipython3",
   "version": "3.6.4"
  }
 },
 "nbformat": 4,
 "nbformat_minor": 2
}
